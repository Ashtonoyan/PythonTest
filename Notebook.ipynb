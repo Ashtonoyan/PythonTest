{
 "cells": [
  {
   "cell_type": "code",
   "execution_count": null,
   "metadata": {
    "collapsed": true
   },
   "outputs": [],
   "source": [
    "# Notebook.ipynb\n",
    "\n",
    "import pandas as pd\n",
    "from plot_drawer import PlotDrawer\n",
    "from IPython.display import Image, display\n",
    "%matplotlib inline\n",
    "\n",
    "\n",
    "\n",
    "json_path = \"deviation.json\"\n",
    "\n",
    "\n",
    "plot_drawer = PlotDrawer()\n",
    "\n",
    "\n",
    "try:\n",
    "    plot_paths = plot_drawer.draw_plots(json_path)\n",
    "    print(\"Графики успешно созданы:\")\n",
    "    for path in plot_paths:\n",
    "        print(path)\n",
    "except Exception as e:\n",
    "    print(f\"Ошибка при создании графиков: {e}\")\n",
    "\n",
    "\n",
    "for path in plot_paths:\n",
    "    display(Image(filename=path))\n"
   ]
  }
 ],
 "metadata": {
  "kernelspec": {
   "display_name": "Python 3",
   "language": "python",
   "name": "python3"
  },
  "language_info": {
   "codemirror_mode": {
    "name": "ipython",
    "version": 2
   },
   "file_extension": ".py",
   "mimetype": "text/x-python",
   "name": "python",
   "nbconvert_exporter": "python",
   "pygments_lexer": "ipython2",
   "version": "2.7.6"
  }
 },
 "nbformat": 4,
 "nbformat_minor": 0
}